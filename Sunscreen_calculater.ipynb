{
 "cells": [
  {
   "cell_type": "markdown",
   "id": "22cccce1",
   "metadata": {},
   "source": [
    "This app is designed to calculate the sunscreen amount to apply, given height and weight are provided.\n",
    "\n",
    "The assumptions are as follows:\n",
    "\n",
    "- The density of sunscreen can be approximated as 1 g/cm³.\n",
    "- The recommended amount of sunscreen to apply is 2 mg/cm².\n",
    "- BSA (surface area of the whole body) is calculated using the Du Bois formula (in m²).\n",
    "- Hands comprise 0.05, forearms 0.06, face and neck 0.055, face 0.035, and neck 0.02 of the body skin or surface area.\n",
    "- Results are outputted in a user-friendly manner in units of 1/4, 1/2, 3/4, and 1 teaspoons."
   ]
  },
  {
   "cell_type": "code",
   "execution_count": 19,
   "id": "a258459b",
   "metadata": {},
   "outputs": [
    {
     "name": "stdout",
     "output_type": "stream",
     "text": [
      "Sunscreen needed for each body part (rounded to the nearest 1/4 teaspoon):\n",
      "Hands: 0.5 teaspoons\n",
      "Forearms: 0.5 teaspoons\n",
      "Face and Neck: 0.5 teaspoons\n",
      "Face: 0.25 teaspoons\n",
      "Neck: 0.25 teaspoons\n",
      "Full Body: 8.0 teaspoons\n"
     ]
    }
   ],
   "source": [
    "import math\n",
    "\n",
    "# Constants\n",
    "W = 80  # weight in kg\n",
    "H = 180  # height in cm\n",
    "\n",
    "# Du Bois formula for BSA\n",
    "BSA = 0.007184 * (W ** 0.425) * (H ** 0.725)\n",
    "\n",
    "# Recommended amount of sunscreen (mg) per square cm\n",
    "recommended_amount_per_cm2 = 2  # mg/cm²\n",
    "\n",
    "# Total sunscreen needed for full body (in mg)\n",
    "total_sunscreen_needed_mg = BSA * 10000 * recommended_amount_per_cm2  # Convert BSA from m² to cm²\n",
    "\n",
    "# Function to round teaspoons to the nearest 1/4\n",
    "def round_teaspoons(tsp):\n",
    "    return round(tsp * 4) / 4  # Multiply by 4, round to nearest whole number, divide by 4\n",
    "\n",
    "# BSA proportions for body parts\n",
    "bsa_proportions = {\n",
    "    'Hands': 0.05,\n",
    "    'Forearms': 0.06,\n",
    "    'Face and Neck': 0.055,\n",
    "    'Face': 0.035,\n",
    "    'Neck': 0.02,\n",
    "    'Full Body': 1.00\n",
    "}\n",
    "\n",
    "# Calculate and print sunscreen needed for each body part\n",
    "print(\"Sunscreen needed for each body part (rounded to the nearest 1/4 teaspoon):\")\n",
    "for part, proportion in bsa_proportions.items():\n",
    "    # Calculate sunscreen needed for this body part (in mg)\n",
    "    sunscreen_needed_mg = total_sunscreen_needed_mg * proportion\n",
    "    # Convert to grams\n",
    "    sunscreen_needed_g = sunscreen_needed_mg / 1000\n",
    "    # Convert to teaspoons (assuming 1 teaspoon = 5 grams)\n",
    "    sunscreen_needed_teaspoons = sunscreen_needed_g / 5\n",
    "    # Round to the nearest 1/4 teaspoon\n",
    "    rounded_teaspoons = round_teaspoons(sunscreen_needed_teaspoons)\n",
    "    # Print the result\n",
    "    print(f\"{part}: {rounded_teaspoons} teaspoons\")\n"
   ]
  },
  {
   "cell_type": "markdown",
   "id": "1dc9d078",
   "metadata": {},
   "source": [
    "Reference:"
   ]
  },
  {
   "cell_type": "markdown",
   "id": "e17f27e4",
   "metadata": {},
   "source": [
    "1. Recommened amount of sun screen per surface area: https://www.kindofstephen.com/sunscreen_dosing/\n",
    "2. BSA formula: https://www.ncbi.nlm.nih.gov/pmc/articles/PMC4250987/#:~:text=The%20first%20of%20these%20formulae,cm)0.725%20×%200.007184%5D.\n",
    "3. SPF30+ recommendation: https://cancerwa.asn.au/news/whats-the-difference-between-spf30-and-spf50/#:~:text=We%20recommend%20using%20any%20sunscreen,per%20cent%20blocked%20by%20SPF30.\n",
    "4. Suncreen density https://www.cosmeticsandtoiletries.com/testing/sun-protection/article/21836565/adapting-spf-testing-methods-for-mineral-sunscreen-density is 1 g/cm3\n",
    "5. Surface areas of the body fractoin https://www.researchgate.net/figure/Skin-surface-area-of-body-parts-expressed-as-a-fraction-of-total-body-surface-area-and_tbl2_23475459\n",
    "\n"
   ]
  }
 ],
 "metadata": {
  "kernelspec": {
   "display_name": "Python 3 (ipykernel)",
   "language": "python",
   "name": "python3"
  },
  "language_info": {
   "codemirror_mode": {
    "name": "ipython",
    "version": 3
   },
   "file_extension": ".py",
   "mimetype": "text/x-python",
   "name": "python",
   "nbconvert_exporter": "python",
   "pygments_lexer": "ipython3",
   "version": "3.11.4"
  }
 },
 "nbformat": 4,
 "nbformat_minor": 5
}
